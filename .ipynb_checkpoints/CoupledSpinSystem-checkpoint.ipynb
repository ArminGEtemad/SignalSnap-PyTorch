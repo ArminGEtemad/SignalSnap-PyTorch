{
 "cells": [
  {
   "cell_type": "code",
   "execution_count": null,
   "id": "71795686-9d57-440c-8ad2-3899efa53a9e",
   "metadata": {},
   "outputs": [],
   "source": [
    "from qutip import *\n",
    "import numpy as np\n",
    "import quantumcatch as qc"
   ]
  },
  {
   "cell_type": "code",
   "execution_count": null,
   "id": "54352998-13a1-4fa2-b968-7b226e386506",
   "metadata": {},
   "outputs": [],
   "source": [
    "hbar = 6.582e-4 #eV ps\n",
    "h = 2*np.pi*hbar"
   ]
  },
  {
   "cell_type": "code",
   "execution_count": null,
   "id": "7ac1f763-51b8-4883-8b80-1903faacc47e",
   "metadata": {},
   "outputs": [],
   "source": [
    "\"\"\"# first term\n",
    "beta_ge = 0.172 * hbar\n",
    "H_1 = beta_ge * tensor(sum([a*b for a,b in zip(B, s)]), qeye(6))\n",
    "\n",
    "# second term\n",
    "A =  100.2e-6 * h\n",
    "H_2 = A * sum([tensor(a, b) for a,b in zip(s, I)])\n",
    "\n",
    "# third term\n",
    "p_parallel = 1.27e-6 * h\n",
    "H_3 = p_parallel * tensor(qeye(2), I_z**2)\n",
    "\n",
    "# fourth term\n",
    "beta_gn = 9.329e-6 * hbar\n",
    "H_4 = beta_gn * tensor(qeye(2), sum([a*b for a,b in zip(B, I)]))\n",
    "\n",
    "# Hamiltonian\n",
    "Hamiltonian = (H_1 + H_2 + H_3 - H_4)\n",
    "Hamiltonian\n",
    "\"\"\"\n",
    "hbar = 6.582e-4 #eV ps\n",
    "h = 2*np.pi*hbar\n",
    "m_e = 5.686 #eV ps^2 µm^−2\n",
    "c = 299.79 #µm ps^−1\n",
    "q_e = -1 # sC\n",
    "k_b = 8.6173324e-5 #eV K^-1\n",
    "mu_b = 1*hbar/(2*m_e)\n",
    "\n",
    "B_0 = 0.05\n",
    "deg = 0\n",
    "phi = np.radians(deg)\n",
    "B = B_0 * np.array([1, 0, 0])\n",
    "\n",
    "#real values\n",
    "beta_g_e = 0.172 * hbar\n",
    "beta_g_n = 9.329e-6 * hbar #0.172 * hbar\n",
    "A = 100.2e-6 * h#1600.2e-6 * h\n",
    "P = 1.27e-6 * h \n",
    "\n",
    "\n",
    "#Define system's size\n",
    "n_e_states = 2\n",
    "n_n_states = 5\n",
    "n_e = (n_e_states-1)/2.0\n",
    "n_n = (n_n_states-1)/2.0\n",
    "\n",
    "#Calculate electron operators\n",
    "sx_e = jmat(n_e,'x')\n",
    "sy_e = jmat(n_e,'y')\n",
    "sz_e = jmat(n_e,'z')\n",
    "sp_e = jmat(n_e,'+')\n",
    "sm_e = jmat(n_e,'-')\n",
    "\n",
    "#Calculate nucleus operators\n",
    "sx_n = jmat(n_n,'x')\n",
    "sy_n = jmat(n_n,'y')\n",
    "sz_n = jmat(n_n,'z')\n",
    "sp_n = jmat(n_n,'+')\n",
    "sm_n = jmat(n_n,'-')\n",
    "\n",
    "#Set the system's Hamiltonian\n",
    "s_e = [sx_e,sy_e,sz_e]\n",
    "s_n = [sx_n,sy_n,sz_n]\n",
    "\n",
    "H = beta_g_e * tensor(sum([a*b for a,b in zip(B,s_e)]), qeye(n_n_states)) + \\\n",
    "    A * sum([tensor(a,b) for a,b in zip(s_e,s_n)]) + \\\n",
    "    P * tensor(qeye(n_e_states), sz_n**2) - \\\n",
    "    beta_g_n * tensor(qeye(n_e_states), sum([a*b for a,b in zip(B,s_n)])) \n",
    "H /= hbar\n",
    "H"
   ]
  },
  {
   "cell_type": "code",
   "execution_count": null,
   "id": "5aa19406-8abd-4897-9ba2-1ff4f2da5561",
   "metadata": {},
   "outputs": [],
   "source": [
    "beta = 1e-2\n",
    "gamma = 5e-3#5e-4\n",
    "gamma2 = 2e-2#2e-2\n",
    "c_measure_strength = {\n",
    "    'nuc_z': gamma,\n",
    "    'elec_z': gamma2\n",
    "}\n",
    "c_ops = {\n",
    "    'nuc_z': tensor(qeye(2), sz_n),\n",
    "    'elec_z': tensor(sz_e, qeye(n_n_states))\n",
    "}\n",
    "\n",
    "sc_measure_strength = {\n",
    "    'm': beta,#50*beta\n",
    "    'n': beta,\n",
    "    'o': 0*beta,\n",
    "    'p': 0*beta\n",
    "}\n",
    "sc_ops = {\n",
    "    'm': tensor(qeye(2), sx_n),#tensor(sy_e, qeye(n_n_states))\n",
    "    'n': tensor(sz_e, qeye(n_n_states)),\n",
    "    'o': tensor(sz_e, qeye(n_n_states)),\n",
    "    'p': tensor(sz_e, qeye(n_n_states))\n",
    "}\n",
    "e_ops = {\n",
    "    'm': tensor(qeye(2), sx_n),#tensor(sz_e, qeye(n_n_states))\n",
    "    'n': tensor(sz_e, qeye(n_n_states)),\n",
    "    'o': tensor(sy_e, qeye(n_n_states)),\n",
    "    'p': tensor(sx_e, qeye(n_n_states))\n",
    "}"
   ]
  },
  {
   "cell_type": "code",
   "execution_count": null,
   "id": "caa91dd9-7795-4ac1-bbb2-5439ac174b37",
   "metadata": {},
   "outputs": [],
   "source": [
    "rho_ss = steadystate(H, [tensor(sx_e, qeye(n_n_states)), tensor(sy_e, qeye(n_n_states)), tensor(sz_e, qeye(n_n_states))])\n",
    "rho_ss"
   ]
  },
  {
   "cell_type": "code",
   "execution_count": null,
   "id": "1fec4007-a306-44ee-98f5-06d13284df3a",
   "metadata": {},
   "outputs": [],
   "source": [
    "system = qc.System(H, psi_0=rho_ss, c_ops=c_ops, sc_ops=sc_ops, e_ops=e_ops, \n",
    "                   c_measure_strength=c_measure_strength, \n",
    "                   sc_measure_strength=sc_measure_strength)"
   ]
  },
  {
   "cell_type": "code",
   "execution_count": null,
   "id": "bd7df060-e755-49a4-b198-797270956996",
   "metadata": {},
   "outputs": [],
   "source": [
    "f_f = 0.00175\n",
    "f_i = -0.00175\n",
    "n = 400\n",
    "fs = np.linspace(f_i, f_f, n)\n",
    "\n",
    "measure_op = 'm'\n",
    "measure_op2 = 'n'\n",
    "measure_op3 = 'o'\n",
    "measure_op4 = 'p'\n",
    "\n",
    "spec = system.calculate_spectrum(fs, order_in=[2, 3, 4], measure_op=measure_op, beta_offset=True, \n",
    "                                enable_gpu=True, correction_only=False,\n",
    "                                measure_op_2=measure_op2,\n",
    "                                measure_op_3=measure_op3,\n",
    "                                measure_op_4=measure_op4)"
   ]
  },
  {
   "cell_type": "code",
   "execution_count": null,
   "id": "15a3cf4a-9e31-473b-abe3-ce8588a8e93d",
   "metadata": {},
   "outputs": [],
   "source": [
    "fig = system.plot()"
   ]
  }
 ],
 "metadata": {
  "kernelspec": {
   "display_name": "Python 3 (ipykernel)",
   "language": "python",
   "name": "python3"
  },
  "language_info": {
   "codemirror_mode": {
    "name": "ipython",
    "version": 3
   },
   "file_extension": ".py",
   "mimetype": "text/x-python",
   "name": "python",
   "nbconvert_exporter": "python",
   "pygments_lexer": "ipython3",
   "version": "3.12.4"
  }
 },
 "nbformat": 4,
 "nbformat_minor": 5
}
